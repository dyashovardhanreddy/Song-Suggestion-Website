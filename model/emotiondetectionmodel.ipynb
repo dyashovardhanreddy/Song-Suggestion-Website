{
  "nbformat": 4,
  "nbformat_minor": 5,
  "metadata": {
    "accelerator": "GPU",
    "colab": {
      "name": "emotiondetectionmodel.ipynb",
      "provenance": []
    },
    "kernelspec": {
      "display_name": "Python 3",
      "language": "python",
      "name": "python3"
    },
    "language_info": {
      "codemirror_mode": {
        "name": "ipython",
        "version": 3
      },
      "file_extension": ".py",
      "mimetype": "text/x-python",
      "name": "python",
      "nbconvert_exporter": "python",
      "pygments_lexer": "ipython3",
      "version": "3.7.7"
    }
  },
  "cells": [
    {
      "cell_type": "code",
      "metadata": {
        "colab": {
          "base_uri": "https://localhost:8080/"
        },
        "id": "0de27e8b",
        "outputId": "8bf50ee9-0bc9-4334-b301-88a22915b681"
      },
      "source": [
        "  from google.colab import drive\n",
        "drive.mount('/content/drive')"
      ],
      "id": "0de27e8b",
      "execution_count": 1,
      "outputs": [
        {
          "output_type": "stream",
          "text": [
            "Mounted at /content/drive\n"
          ],
          "name": "stdout"
        }
      ]
    },
    {
      "cell_type": "markdown",
      "metadata": {
        "id": "QGd1jXq_Us1q"
      },
      "source": [
        "Importing Libraries"
      ],
      "id": "QGd1jXq_Us1q"
    },
    {
      "cell_type": "code",
      "metadata": {
        "id": "-5CD897gozcY"
      },
      "source": [
        "import sys, os\n",
        "import cv2\n",
        "import pandas as pd\n",
        "import numpy as np\n",
        "from keras.models import Sequential\n",
        "from keras.layers import Dense, Dropout, Activation, Flatten\n",
        "from keras.layers import Conv2D, MaxPooling2D, BatchNormalization,AveragePooling2D\n",
        "from keras.losses import categorical_crossentropy\n",
        "from keras.optimizers import Adam\n",
        "from keras.regularizers import l2\n",
        "from keras.utils import np_utils"
      ],
      "id": "-5CD897gozcY",
      "execution_count": 2,
      "outputs": []
    },
    {
      "cell_type": "markdown",
      "metadata": {
        "id": "c3841ffc"
      },
      "source": [
        "Reading Data Set"
      ],
      "id": "c3841ffc"
    },
    {
      "cell_type": "code",
      "metadata": {
        "id": "9a44d3f5"
      },
      "source": [
        "df=pd.read_csv('/content/drive/MyDrive/Team 7/fer2013.csv')\n",
        "x_train,y_train,x_test,y_test=[],[],[],[]\n",
        "\n",
        "for index, row in df.iterrows():\n",
        "    val=row['pixels'].split(' ')\n",
        "    if 'Training' in row['Usage']:\n",
        "        x_train.append(np.array(val,'float32'))\n",
        "        y_train.append(row['emotion'])\n",
        "    elif 'PublicTest' in row['Usage'] or 'PrivateTest' in row['Usage']:\n",
        "        x_test.append(np.array(val,'float32'))\n",
        "        y_test.append(row['emotion'])\n",
        "\n",
        "\n",
        "\n",
        "x_train=np.array(x_train,'float32')\n",
        "y_train=np.array(y_train,'float32')\n",
        "x_test=np.array(x_test,'float32')\n",
        "y_test=np.array(y_test,'float32')\n",
        "\n",
        "\n",
        "y_train=np_utils.to_categorical(y_train, num_classes=7)\n",
        "y_test=np_utils.to_categorical(y_test, num_classes=7)"
      ],
      "id": "9a44d3f5",
      "execution_count": 14,
      "outputs": []
    },
    {
      "cell_type": "markdown",
      "metadata": {
        "id": "47a09197"
      },
      "source": [
        "# Normalizing "
      ],
      "id": "47a09197"
    },
    {
      "cell_type": "code",
      "metadata": {
        "id": "1e541947"
      },
      "source": [
        "\n",
        "x_train-=np.mean(x_train,axis=0)\n",
        "x_train/=np.std(x_train,axis=0)\n",
        "\n",
        "x_test-=np.mean(x_test,axis=0)\n",
        "x_test/=np.std(x_test,axis=0)\n",
        "\n",
        "\n",
        "\n",
        "x_train=x_train.reshape(x_train.shape[0],48,48,1)\n",
        "x_test=x_test.reshape(x_test.shape[0],48,48,1)\n",
        "\n",
        "\n",
        "\n"
      ],
      "id": "1e541947",
      "execution_count": 15,
      "outputs": []
    },
    {
      "cell_type": "markdown",
      "metadata": {
        "id": "10159427"
      },
      "source": [
        "#  CNN"
      ],
      "id": "10159427"
    },
    {
      "cell_type": "code",
      "metadata": {
        "colab": {
          "base_uri": "https://localhost:8080/"
        },
        "id": "cb9ef742",
        "outputId": "faf9b809-3a11-4467-c49d-b8a767ec2a83"
      },
      "source": [
        "model = Sequential()\n",
        "\n",
        "model.add(Conv2D(64, kernel_size=(3, 3), activation='relu', input_shape=(x_train.shape[1:])))\n",
        "model.add(BatchNormalization())\n",
        "model.add(MaxPooling2D(pool_size=(2,2), strides=(2, 2)))\n",
        "model.add(Dropout(0.5))\n",
        "\n",
        "#2nd convolution layer\n",
        "model.add(Conv2D(64, (3, 3), activation='relu'))\n",
        "model.add(BatchNormalization())\n",
        "model.add(MaxPooling2D(pool_size=(2,2), strides=(2, 2)))\n",
        "model.add(Dropout(0.5))\n",
        "\n",
        "#3rd convolution layer\n",
        "model.add(Conv2D(128, (3, 3), activation='relu'))\n",
        "model.add(BatchNormalization())\n",
        "model.add(MaxPooling2D(pool_size=(2,2), strides=(2, 2)))\n",
        "\n",
        "model.add(Flatten())\n",
        "\n",
        "#fully connected neural network 1st layer\n",
        "model.add(Dense(1024, activation='relu'))\n",
        "model.add(Dropout(0.2))\n",
        "model.add(Dense(1024, activation='relu'))\n",
        "model.add(Dropout(0.2))\n",
        "\n",
        "model.add(Dense(7, activation='softmax'))\n",
        "\n",
        "model.summary()\n",
        "\n",
        "\n",
        "\n",
        "#Compliling the model\n",
        "\n",
        "model.compile(loss=categorical_crossentropy,\n",
        "              optimizer=Adam(),\n",
        "              metrics=['accuracy'])"
      ],
      "id": "cb9ef742",
      "execution_count": 6,
      "outputs": [
        {
          "output_type": "stream",
          "text": [
            "Model: \"sequential\"\n",
            "_________________________________________________________________\n",
            "Layer (type)                 Output Shape              Param #   \n",
            "=================================================================\n",
            "conv2d (Conv2D)              (None, 46, 46, 64)        640       \n",
            "_________________________________________________________________\n",
            "batch_normalization (BatchNo (None, 46, 46, 64)        256       \n",
            "_________________________________________________________________\n",
            "max_pooling2d (MaxPooling2D) (None, 23, 23, 64)        0         \n",
            "_________________________________________________________________\n",
            "dropout (Dropout)            (None, 23, 23, 64)        0         \n",
            "_________________________________________________________________\n",
            "conv2d_1 (Conv2D)            (None, 21, 21, 64)        36928     \n",
            "_________________________________________________________________\n",
            "batch_normalization_1 (Batch (None, 21, 21, 64)        256       \n",
            "_________________________________________________________________\n",
            "max_pooling2d_1 (MaxPooling2 (None, 10, 10, 64)        0         \n",
            "_________________________________________________________________\n",
            "dropout_1 (Dropout)          (None, 10, 10, 64)        0         \n",
            "_________________________________________________________________\n",
            "conv2d_2 (Conv2D)            (None, 8, 8, 128)         73856     \n",
            "_________________________________________________________________\n",
            "batch_normalization_2 (Batch (None, 8, 8, 128)         512       \n",
            "_________________________________________________________________\n",
            "max_pooling2d_2 (MaxPooling2 (None, 4, 4, 128)         0         \n",
            "_________________________________________________________________\n",
            "flatten (Flatten)            (None, 2048)              0         \n",
            "_________________________________________________________________\n",
            "dense (Dense)                (None, 1024)              2098176   \n",
            "_________________________________________________________________\n",
            "dropout_2 (Dropout)          (None, 1024)              0         \n",
            "_________________________________________________________________\n",
            "dense_1 (Dense)              (None, 1024)              1049600   \n",
            "_________________________________________________________________\n",
            "dropout_3 (Dropout)          (None, 1024)              0         \n",
            "_________________________________________________________________\n",
            "dense_2 (Dense)              (None, 7)                 7175      \n",
            "=================================================================\n",
            "Total params: 3,267,399\n",
            "Trainable params: 3,266,887\n",
            "Non-trainable params: 512\n",
            "_________________________________________________________________\n"
          ],
          "name": "stdout"
        }
      ]
    },
    {
      "cell_type": "markdown",
      "metadata": {
        "id": "h73MygLy3O2r"
      },
      "source": [
        "Training"
      ],
      "id": "h73MygLy3O2r"
    },
    {
      "cell_type": "code",
      "metadata": {
        "colab": {
          "base_uri": "https://localhost:8080/"
        },
        "id": "IB_pkFr53Lm-",
        "outputId": "2e47139d-2a36-456c-ce1a-9ce90a5d0370"
      },
      "source": [
        "training=model.fit(x_train, y_train,batch_size=64,epochs=30,verbose=1,validation_data=(x_test, y_test),shuffle=True)"
      ],
      "id": "IB_pkFr53Lm-",
      "execution_count": 7,
      "outputs": [
        {
          "output_type": "stream",
          "text": [
            "Epoch 1/30\n",
            "449/449 [==============================] - 54s 16ms/step - loss: 2.0894 - accuracy: 0.2908 - val_loss: 2.1714 - val_accuracy: 0.3221\n",
            "Epoch 2/30\n",
            "449/449 [==============================] - 6s 14ms/step - loss: 1.5073 - accuracy: 0.4066 - val_loss: 1.3789 - val_accuracy: 0.4727\n",
            "Epoch 3/30\n",
            "449/449 [==============================] - 6s 14ms/step - loss: 1.3949 - accuracy: 0.4651 - val_loss: 1.2864 - val_accuracy: 0.5067\n",
            "Epoch 4/30\n",
            "449/449 [==============================] - 6s 14ms/step - loss: 1.3166 - accuracy: 0.4962 - val_loss: 1.2415 - val_accuracy: 0.5265\n",
            "Epoch 5/30\n",
            "449/449 [==============================] - 6s 14ms/step - loss: 1.2466 - accuracy: 0.5234 - val_loss: 1.2454 - val_accuracy: 0.5283\n",
            "Epoch 6/30\n",
            "449/449 [==============================] - 6s 14ms/step - loss: 1.1906 - accuracy: 0.5443 - val_loss: 1.1745 - val_accuracy: 0.5440\n",
            "Epoch 7/30\n",
            "449/449 [==============================] - 6s 14ms/step - loss: 1.1461 - accuracy: 0.5632 - val_loss: 1.1622 - val_accuracy: 0.5607\n",
            "Epoch 8/30\n",
            "449/449 [==============================] - 6s 14ms/step - loss: 1.1015 - accuracy: 0.5827 - val_loss: 1.1563 - val_accuracy: 0.5623\n",
            "Epoch 9/30\n",
            "449/449 [==============================] - 6s 14ms/step - loss: 1.0578 - accuracy: 0.5997 - val_loss: 1.1690 - val_accuracy: 0.5713\n",
            "Epoch 10/30\n",
            "449/449 [==============================] - 6s 14ms/step - loss: 1.0120 - accuracy: 0.6163 - val_loss: 1.1582 - val_accuracy: 0.5681\n",
            "Epoch 11/30\n",
            "449/449 [==============================] - 6s 14ms/step - loss: 0.9697 - accuracy: 0.6324 - val_loss: 1.1766 - val_accuracy: 0.5769\n",
            "Epoch 12/30\n",
            "449/449 [==============================] - 6s 14ms/step - loss: 0.9183 - accuracy: 0.6545 - val_loss: 1.1603 - val_accuracy: 0.5841\n",
            "Epoch 13/30\n",
            "449/449 [==============================] - 6s 14ms/step - loss: 0.8850 - accuracy: 0.6728 - val_loss: 1.1778 - val_accuracy: 0.5846\n",
            "Epoch 14/30\n",
            "449/449 [==============================] - 6s 14ms/step - loss: 0.8285 - accuracy: 0.6928 - val_loss: 1.1852 - val_accuracy: 0.5952\n",
            "Epoch 15/30\n",
            "449/449 [==============================] - 6s 14ms/step - loss: 0.7832 - accuracy: 0.7071 - val_loss: 1.2420 - val_accuracy: 0.5861\n",
            "Epoch 16/30\n",
            "449/449 [==============================] - 6s 14ms/step - loss: 0.7506 - accuracy: 0.7216 - val_loss: 1.2548 - val_accuracy: 0.5896\n",
            "Epoch 17/30\n",
            "449/449 [==============================] - 6s 14ms/step - loss: 0.6941 - accuracy: 0.7472 - val_loss: 1.2621 - val_accuracy: 0.5967\n",
            "Epoch 18/30\n",
            "449/449 [==============================] - 6s 14ms/step - loss: 0.6620 - accuracy: 0.7548 - val_loss: 1.3621 - val_accuracy: 0.5952\n",
            "Epoch 19/30\n",
            "449/449 [==============================] - 6s 14ms/step - loss: 0.6297 - accuracy: 0.7686 - val_loss: 1.3587 - val_accuracy: 0.5961\n",
            "Epoch 20/30\n",
            "449/449 [==============================] - 6s 14ms/step - loss: 0.5953 - accuracy: 0.7836 - val_loss: 1.3471 - val_accuracy: 0.5885\n",
            "Epoch 21/30\n",
            "449/449 [==============================] - 6s 14ms/step - loss: 0.5542 - accuracy: 0.7964 - val_loss: 1.4200 - val_accuracy: 0.6023\n",
            "Epoch 22/30\n",
            "449/449 [==============================] - 6s 14ms/step - loss: 0.5479 - accuracy: 0.8024 - val_loss: 1.4578 - val_accuracy: 0.6027\n",
            "Epoch 23/30\n",
            "449/449 [==============================] - 6s 14ms/step - loss: 0.5130 - accuracy: 0.8188 - val_loss: 1.5020 - val_accuracy: 0.6030\n",
            "Epoch 24/30\n",
            "449/449 [==============================] - 6s 14ms/step - loss: 0.4770 - accuracy: 0.8252 - val_loss: 1.4560 - val_accuracy: 0.6006\n",
            "Epoch 25/30\n",
            "449/449 [==============================] - 6s 14ms/step - loss: 0.4704 - accuracy: 0.8369 - val_loss: 1.4872 - val_accuracy: 0.6018\n",
            "Epoch 26/30\n",
            "449/449 [==============================] - 6s 14ms/step - loss: 0.4453 - accuracy: 0.8431 - val_loss: 1.5734 - val_accuracy: 0.5970\n",
            "Epoch 27/30\n",
            "449/449 [==============================] - 6s 14ms/step - loss: 0.4216 - accuracy: 0.8518 - val_loss: 1.5215 - val_accuracy: 0.6027\n",
            "Epoch 28/30\n",
            "449/449 [==============================] - 6s 14ms/step - loss: 0.3959 - accuracy: 0.8607 - val_loss: 1.5487 - val_accuracy: 0.6023\n",
            "Epoch 29/30\n",
            "449/449 [==============================] - 6s 14ms/step - loss: 0.3745 - accuracy: 0.8663 - val_loss: 1.6902 - val_accuracy: 0.6032\n",
            "Epoch 30/30\n",
            "449/449 [==============================] - 6s 14ms/step - loss: 0.3665 - accuracy: 0.8724 - val_loss: 1.6335 - val_accuracy: 0.6007\n"
          ],
          "name": "stdout"
        }
      ]
    },
    {
      "cell_type": "markdown",
      "metadata": {
        "id": "o6cPEeQkQ2wH"
      },
      "source": [
        "Saving Model"
      ],
      "id": "o6cPEeQkQ2wH"
    },
    {
      "cell_type": "code",
      "metadata": {
        "id": "R4PZpqFAQ1ta"
      },
      "source": [
        "model_json =model.to_json()\n",
        "with open(\"/content/drive/MyDrive/Team 7/model.json\",\"w\") as json_file:\n",
        "    json_file.write(model_json)\n",
        "model.save_weights(\"/content/drive/MyDrive/Team 7/model.h5\")"
      ],
      "id": "R4PZpqFAQ1ta",
      "execution_count": 8,
      "outputs": []
    },
    {
      "cell_type": "code",
      "metadata": {
        "colab": {
          "base_uri": "https://localhost:8080/",
          "height": 540
        },
        "id": "_xP_hBHxw4WL",
        "outputId": "ae095364-2665-45f6-de0f-f6fa13843502"
      },
      "source": [
        "import matplotlib.pyplot as plt\n",
        "\n",
        "plt.figure(figsize=(9,8))\n",
        "plt.subplot(1, 2, 1)\n",
        "plt.suptitle('Optimizer : Adam', fontsize=10)\n",
        "plt.ylabel('Loss', fontsize=16)\n",
        "plt.plot(training.history['loss'], label='Training Loss')\n",
        "plt.plot(training.history['val_loss'], label='Validation Loss')\n",
        "plt.legend(loc='upper right')\n",
        "\n",
        "plt.subplot(1, 2, 2)\n",
        "plt.ylabel('Accuracy', fontsize=16)\n",
        "plt.plot(training.history['accuracy'], label='Training Accuracy')\n",
        "plt.plot(training.history['val_accuracy'], label='Validation Accuracy')\n",
        "plt.legend(loc='upper right')\n",
        "plt.show()"
      ],
      "id": "_xP_hBHxw4WL",
      "execution_count": 9,
      "outputs": [
        {
          "output_type": "display_data",
          "data": {
            "image/png": "[encoded data removed]",
            "text/plain": [
              "<Figure size 648x576 with 2 Axes>"
            ]
          },
          "metadata": {
            "tags": [],
            "needs_background": "light"
          }
        }
      ]
    }
  ]
}